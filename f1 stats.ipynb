{
 "cells": [
  {
   "cell_type": "code",
   "execution_count": null,
   "metadata": {
    "collapsed": true
   },
   "outputs": [],
   "source": [
    "import MySQLdb"
   ]
  },
  {
   "cell_type": "code",
   "execution_count": null,
   "metadata": {},
   "outputs": [],
   "source": [
    "db = MySQLdb.connect(user='root', passwd=\"password\", db=\"f1\")"
   ]
  },
  {
   "cell_type": "markdown",
   "metadata": {},
   "source": [
    "# Analysis of F1 points over all seasons"
   ]
  },
  {
   "cell_type": "markdown",
   "metadata": {},
   "source": [
    "I wanted to know whether F1 racedays are becoming more or less competitive. I had a feeling that we needed to look at the relative importance of qualifying vs. racedays, in terms of how many points per (effectively) won on each day. The thinking was that: if most points are \"already won\" in qualifying, teams would make less race-competitive cars (since they only need to be qualifying-competitive).\n",
    "\n",
    "Let's have a look...\n",
    "\n",
    "We'll use Pandas, obviously"
   ]
  },
  {
   "cell_type": "code",
   "execution_count": null,
   "metadata": {
    "collapsed": true
   },
   "outputs": [],
   "source": [
    "import pandas as pd"
   ]
  },
  {
   "cell_type": "markdown",
   "metadata": {},
   "source": [
    "Fetch all race results from database"
   ]
  },
  {
   "cell_type": "code",
   "execution_count": null,
   "metadata": {
    "collapsed": true
   },
   "outputs": [],
   "source": [
    "c = db.cursor()\n",
    "\n",
    "f1_history = pd.read_sql('select * from races', db, index_col='raceId')"
   ]
  },
  {
   "cell_type": "markdown",
   "metadata": {},
   "source": [
    "Figure out how many points where on offer in each race (because this changes every now and then with rules changes, and some races are awarded half points for not reaching full race distance)"
   ]
  },
  {
   "cell_type": "code",
   "execution_count": null,
   "metadata": {
    "collapsed": true
   },
   "outputs": [],
   "source": [
    "race_points = pd.read_sql('select raceId, sum(points) from results group by raceId', db, index_col='raceId')"
   ]
  },
  {
   "cell_type": "code",
   "execution_count": null,
   "metadata": {
    "collapsed": true
   },
   "outputs": [],
   "source": [
    "f1_history = f1_history.join(race_points)"
   ]
  },
  {
   "cell_type": "code",
   "execution_count": null,
   "metadata": {
    "collapsed": true
   },
   "outputs": [],
   "source": [
    "race_results = pd.read_sql('select * from results', db, index_col='resultId')"
   ]
  },
  {
   "cell_type": "markdown",
   "metadata": {},
   "source": [
    "We're going to define `quali_points` as the number of \"points\" that each qualified had, in each race. We do that by looking up the number of points awarded to the person who finished the race in the position the qualifier in question sat on the grid. I.e. the driver who qualifies into grid position 4 has \"already won\" (by the end of qualifying) the number of points that the driver who finished the race in fourth position won (by the end of the race)."
   ]
  },
  {
   "cell_type": "code",
   "execution_count": null,
   "metadata": {
    "collapsed": true
   },
   "outputs": [],
   "source": [
    "def quali_points(row, cursor):\n",
    "    raceId = row['raceId']\n",
    "    grid = row['grid']\n",
    "    cursor.execute('''select points from results where raceId=%d and position=%d''' % (raceId, grid))\n",
    "    points = cursor.fetchone()\n",
    "    try:\n",
    "        return float(points[0])\n",
    "    except TypeError:\n",
    "        return 0"
   ]
  },
  {
   "cell_type": "code",
   "execution_count": null,
   "metadata": {},
   "outputs": [],
   "source": [
    "race_results['quali_points'] = race_results.apply(quali_points, axis=1, args=(c,))"
   ]
  },
  {
   "cell_type": "markdown",
   "metadata": {},
   "source": [
    "Now we work out how many *extra* points each driver won during the race. This is how many race points they were awarded, minus how many we calculated were \"already won\" by their qualifying position."
   ]
  },
  {
   "cell_type": "code",
   "execution_count": null,
   "metadata": {
    "collapsed": true
   },
   "outputs": [],
   "source": [
    "race_results['points_gained_on_sunday'] = race_results.points - race_results.quali_points"
   ]
  },
  {
   "cell_type": "markdown",
   "metadata": {},
   "source": [
    "We set a floor of zero on this, so that we only count overtakes! We could count how many points changed hands overall, but I wanted to bias this a bit to look at how well incentivised overtaking is, which means how many points people win by heading forwards."
   ]
  },
  {
   "cell_type": "code",
   "execution_count": null,
   "metadata": {
    "collapsed": true
   },
   "outputs": [],
   "source": [
    "race_results.points_gained_on_sunday = race_results.points_gained_on_sunday.clip_lower(0)"
   ]
  },
  {
   "cell_type": "markdown",
   "metadata": {},
   "source": [
    "Now, look at each race and work out how many of all the points awarded that race weekend were \"gained\" on Sunday.\n",
    "\n",
    "**We call this the `raceday_novelty` factor.**"
   ]
  },
  {
   "cell_type": "code",
   "execution_count": null,
   "metadata": {
    "collapsed": true
   },
   "outputs": [],
   "source": [
    "race_gains = race_results.groupby('raceId')"
   ]
  },
  {
   "cell_type": "code",
   "execution_count": null,
   "metadata": {
    "collapsed": true
   },
   "outputs": [],
   "source": [
    "race_gains = race_gains.sum()[['points_gained_on_sunday']]"
   ]
  },
  {
   "cell_type": "code",
   "execution_count": null,
   "metadata": {
    "collapsed": true
   },
   "outputs": [],
   "source": [
    "f1_history = f1_history.join(race_gains)"
   ]
  },
  {
   "cell_type": "code",
   "execution_count": null,
   "metadata": {
    "collapsed": true
   },
   "outputs": [],
   "source": [
    "f1_history.rename(columns={\"sum(points)\": \"total_points_awarded\"}, inplace=True)"
   ]
  },
  {
   "cell_type": "code",
   "execution_count": null,
   "metadata": {
    "collapsed": true
   },
   "outputs": [],
   "source": [
    "f1_history['raceday_novelty'] = f1_history.points_gained_on_sunday / f1_history.total_points_awarded"
   ]
  },
  {
   "cell_type": "code",
   "execution_count": null,
   "metadata": {
    "collapsed": true
   },
   "outputs": [],
   "source": [
    "f1_history.sort_values(by='date', inplace=True)"
   ]
  },
  {
   "cell_type": "markdown",
   "metadata": {},
   "source": [
    "#### Let's have a look at the history of raceday novelty"
   ]
  },
  {
   "cell_type": "code",
   "execution_count": null,
   "metadata": {},
   "outputs": [],
   "source": [
    "%pylab inline"
   ]
  },
  {
   "cell_type": "code",
   "execution_count": null,
   "metadata": {
    "collapsed": true
   },
   "outputs": [],
   "source": [
    "import numpy as np"
   ]
  },
  {
   "cell_type": "markdown",
   "metadata": {},
   "source": [
    "We'll group this by championship year, so that we see the overall trend over history"
   ]
  },
  {
   "cell_type": "markdown",
   "metadata": {},
   "source": [
    "I've also listed some major historical points (rules and formula changes) in F1's evolution (from [Wikipedia's F1 History](https://en.wikipedia.org/wiki/History_of_Formula_One) and some of the championship articles"
   ]
  },
  {
   "cell_type": "code",
   "execution_count": null,
   "metadata": {
    "collapsed": true
   },
   "outputs": [],
   "source": [
    "import datetime"
   ]
  },
  {
   "cell_type": "code",
   "execution_count": null,
   "metadata": {},
   "outputs": [],
   "source": [
    "figsize(10, 5)\n",
    "championships = f1_history.groupby('year').mean()\n",
    "championships['champ_year'] = championships.index\n",
    "championships['date'] = pd.to_datetime(championships.champ_year, format='%Y')\n",
    "\n",
    "plt.plot(f1_history.date, 100 * f1_history.raceday_novelty, alpha=0.2, color='k')\n",
    "plt.plot(championships.date, 100 * championships.raceday_novelty, color='#B52B21', lw=4)\n",
    "\n",
    "key_markers = {\n",
    "    1966: 'Engine capacity doubled',\n",
    "    1967: 'Cosworth DFV V8',\n",
    "    1968: 'Aero wings (and tobacco sponsorship)',\n",
    "    1975: 'Transverse gearbox',\n",
    "    1977: 'Ground effect',\n",
    "    1981: 'Carbon fibre chassis',\n",
    "    1983: 'Turbochargers',\n",
    "    1987: 'Turbo restrictions',\n",
    "    1989: '3.5 naturally aspirated only',\n",
    "    1991: 'Traction control',\n",
    "    1994: 'Safety era: less power, the Plank',\n",
    "    1995: 'Strict aero regulations, 3 litre engines',\n",
    "    1998: 'V10 era',\n",
    "    2003: 'New points system',\n",
    "    2005: 'Ford leaves F1',\n",
    "    2006: '2.4l V8s',\n",
    "    2007: 'Bridgestone only tyres',\n",
    "    2009: 'KERS, Double diffusers.',\n",
    "    2011: 'Team orders allowed',\n",
    "    2014: 'Hybrid engines'\n",
    "}\n",
    "\n",
    "ax = plt.gca()\n",
    "\n",
    "for year, innovation in key_markers.iteritems():\n",
    "    d = datetime.datetime.strptime(str(year), '%Y')\n",
    "    plt.text(d, 100, innovation, rotation=45, va='bottom', size='xx-small')\n",
    "    plt.axvline(d, color='k', alpha=0.8)\n",
    "xlabel('Championship year')\n",
    "ylabel('% of points newly won on racedays')\n",
    "tight_layout(rect=(0, 0, 0.98, 0.8))\n",
    "savefig('F1 raceday novelty.png', dpi=300)"
   ]
  }
 ],
 "metadata": {
  "kernelspec": {
   "display_name": "Python 2",
   "language": "python",
   "name": "python2"
  },
  "language_info": {
   "codemirror_mode": {
    "name": "ipython",
    "version": 2
   },
   "file_extension": ".py",
   "mimetype": "text/x-python",
   "name": "python",
   "nbconvert_exporter": "python",
   "pygments_lexer": "ipython2",
   "version": "2.7.10"
  }
 },
 "nbformat": 4,
 "nbformat_minor": 1
}
